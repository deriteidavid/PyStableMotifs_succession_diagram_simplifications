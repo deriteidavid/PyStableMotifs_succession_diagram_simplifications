{
 "cells": [
  {
   "cell_type": "markdown",
   "metadata": {},
   "source": [
    "# Succession diagram simplifications"
   ]
  },
  {
   "cell_type": "markdown",
   "metadata": {},
   "source": [
    "The explanations in this notebook assume a basic understanding of stable motif succession diagrams and the PyStableMotif library by Rozum et al.:\n",
    "https://github.com/jcrozum/PyStableMotifs <br>\n",
    "<br>\n",
    "Both kinds of succession diagrams (SD) -- the reduction based (RBSD) and the motif-based (MBSD) succession diagrams generate different pathways for different combinations of motif stabilization. The RBSD is more efficient in doing this but the end result can still be quite difficult to interpret, if the system is large and/or has a lot of motifs. This notebook aims to introduce a few simple methods to further simplify the succession diagrams and help with their interpretation. \n",
    "<br> This nodebook goes trough some of the steps of the PyStableMotif tutorial notebook, from generating the attractor repertoire to saving the succession diagrams, then introduces a few methods of simplifying these and generates two additional succession diagrams, the Simplified MBSD and the Bipartite MBSD."
   ]
  },
  {
   "cell_type": "code",
   "execution_count": 1,
   "metadata": {},
   "outputs": [
    {
     "name": "stderr",
     "output_type": "stream",
     "text": [
      "\n",
      "Bad key \"text.kerning_factor\" on line 4 in\n",
      "/home/david/anaconda2/envs/python_3_env/lib/python3.7/site-packages/matplotlib/mpl-data/stylelib/_classic_test_patch.mplstyle.\n",
      "You probably need to get an updated matplotlibrc file from\n",
      "https://github.com/matplotlib/matplotlib/blob/v3.1.3/matplotlibrc.template\n",
      "or from the matplotlib source distribution\n"
     ]
    }
   ],
   "source": [
    "import sys\n",
    "import PyStableMotifs as sm\n",
    "import PyBoolNet\n",
    "import PyStableMotifs.Export as ex"
   ]
  },
  {
   "cell_type": "markdown",
   "metadata": {},
   "source": [
    "## Read in a Boolean model:"
   ]
  },
  {
   "cell_type": "markdown",
   "metadata": {},
   "source": [
    "We use the Phase Switch model in this example from *Deritei, D., Aird, W. C., Ercsey-Ravasz, M., & Regan, E. R. (2016). Principles of dynamical modularity in biological regulatory networks. Scientific reports, 6(1), 1-19.*"
   ]
  },
  {
   "cell_type": "code",
   "execution_count": 2,
   "metadata": {},
   "outputs": [],
   "source": [
    "model_name_='Phase_Switch'\n",
    "rules='''Cdc20 *= pAPC and (not Cdh1) and (not Mad2)\n",
    "Cdc25A *= CyclinA and (not Cdh1)\n",
    "Cdc25C *= CyclinA or (CyclinB and Cdk1)\n",
    "Cdh1 *= (not CyclinA) and (not (CyclinB and Cdk1))\n",
    "Cdk1 *= Cdc25C and (CyclinA or CyclinB) and (Cdk1 or (not Wee1))\n",
    "CyclinA *= (Cdc25A or CyclinA) and (not ((pAPC and Cdc20) or (Cdh1 and UbcH10) ) )\n",
    "CyclinB *= not (pAPC and Cdc20) and (not Cdh1)\n",
    "Mad2 *= not (pAPC and Cdc20) and CyclinB and Cdk1\n",
    "pAPC *= (pAPC and Cdc20) or (CyclinB and Cdk1)\n",
    "UbcH10 *= (not Cdh1) or (UbcH10 and (Cdc20 or CyclinA or CyclinB))\n",
    "Wee1 *= not ((CyclinA or CyclinB) and Cdk1)\n",
    "'''"
   ]
  },
  {
   "cell_type": "code",
   "execution_count": 3,
   "metadata": {},
   "outputs": [
    {
     "name": "stdout",
     "output_type": "stream",
     "text": [
      "Cdc20* = !Cdh1 & !Mad2 & pAPC\n",
      "Cdc25A* = !Cdh1 & CyclinA\n",
      "Cdc25C* = Cdk1 & CyclinB | CyclinA\n",
      "Cdh1* = !CyclinA & !CyclinB | !Cdk1 & !CyclinA\n",
      "Cdk1* = Cdc25C & CyclinB & !Wee1 | Cdc25C & CyclinA & !Wee1 | Cdc25C & Cdk1 & CyclinB | Cdc25C & Cdk1 & CyclinA\n",
      "CyclinA* = CyclinA & !UbcH10 & !pAPC | !Cdh1 & CyclinA & !pAPC | Cdc25A & !UbcH10 & !pAPC | Cdc25A & !Cdh1 & !pAPC | !Cdc20 & CyclinA & !UbcH10 | !Cdc20 & !Cdh1 & CyclinA | !Cdc20 & Cdc25A & !UbcH10 | !Cdc20 & Cdc25A & !Cdh1\n",
      "CyclinB* = !Cdh1 & !pAPC | !Cdc20 & !Cdh1\n",
      "Mad2* = Cdk1 & CyclinB & !pAPC | !Cdc20 & Cdk1 & CyclinB\n",
      "UbcH10* = CyclinB & UbcH10 | CyclinA & UbcH10 | Cdc20 & UbcH10 | !Cdh1\n",
      "Wee1* = !CyclinA & !CyclinB | !Cdk1\n",
      "pAPC* = Cdk1 & CyclinB | Cdc20 & pAPC\n"
     ]
    }
   ],
   "source": [
    "#format the rules to be PyBoolNet compatible \n",
    "rules_pbn = sm.Format.booleannet2bnet(rules)\n",
    "primes = PyBoolNet.FileExchange.bnet2primes(rules_pbn)\n",
    "sm.Format.pretty_print_prime_rules({k:primes[k] for k in sorted(primes)})\n"
   ]
  },
  {
   "cell_type": "markdown",
   "metadata": {},
   "source": [
    "## Generating the Attractor repertoire"
   ]
  },
  {
   "cell_type": "code",
   "execution_count": 4,
   "metadata": {},
   "outputs": [],
   "source": [
    "#explanation of the parameter\n",
    "max_simulate_size=20"
   ]
  },
  {
   "cell_type": "code",
   "execution_count": 5,
   "metadata": {},
   "outputs": [],
   "source": [
    "ar = sm.AttractorRepertoire.from_primes(primes, max_simulate_size=max_simulate_size)"
   ]
  },
  {
   "cell_type": "markdown",
   "metadata": {},
   "source": [
    "### What do we know about the attractors?"
   ]
  },
  {
   "cell_type": "markdown",
   "metadata": {},
   "source": [
    "If we want the attractors in a DataFrame:"
   ]
  },
  {
   "cell_type": "code",
   "execution_count": 6,
   "metadata": {},
   "outputs": [
    {
     "data": {
      "text/html": [
       "<div>\n",
       "<style scoped>\n",
       "    .dataframe tbody tr th:only-of-type {\n",
       "        vertical-align: middle;\n",
       "    }\n",
       "\n",
       "    .dataframe tbody tr th {\n",
       "        vertical-align: top;\n",
       "    }\n",
       "\n",
       "    .dataframe thead th {\n",
       "        text-align: right;\n",
       "    }\n",
       "</style>\n",
       "<table border=\"1\" class=\"dataframe\">\n",
       "  <thead>\n",
       "    <tr style=\"text-align: right;\">\n",
       "      <th></th>\n",
       "      <th>Cdc20</th>\n",
       "      <th>Cdc25A</th>\n",
       "      <th>Cdc25C</th>\n",
       "      <th>Cdh1</th>\n",
       "      <th>Cdk1</th>\n",
       "      <th>CyclinA</th>\n",
       "      <th>CyclinB</th>\n",
       "      <th>Mad2</th>\n",
       "      <th>UbcH10</th>\n",
       "      <th>Wee1</th>\n",
       "      <th>pAPC</th>\n",
       "    </tr>\n",
       "  </thead>\n",
       "  <tbody>\n",
       "    <tr>\n",
       "      <th>0</th>\n",
       "      <td>0</td>\n",
       "      <td>0</td>\n",
       "      <td>0</td>\n",
       "      <td>1</td>\n",
       "      <td>0</td>\n",
       "      <td>0</td>\n",
       "      <td>0</td>\n",
       "      <td>0</td>\n",
       "      <td>0</td>\n",
       "      <td>1</td>\n",
       "      <td>0</td>\n",
       "    </tr>\n",
       "    <tr>\n",
       "      <th>1</th>\n",
       "      <td>0</td>\n",
       "      <td>0</td>\n",
       "      <td>1</td>\n",
       "      <td>0</td>\n",
       "      <td>1</td>\n",
       "      <td>0</td>\n",
       "      <td>1</td>\n",
       "      <td>1</td>\n",
       "      <td>1</td>\n",
       "      <td>0</td>\n",
       "      <td>1</td>\n",
       "    </tr>\n",
       "    <tr>\n",
       "      <th>2</th>\n",
       "      <td>0</td>\n",
       "      <td>1</td>\n",
       "      <td>1</td>\n",
       "      <td>0</td>\n",
       "      <td>0</td>\n",
       "      <td>1</td>\n",
       "      <td>1</td>\n",
       "      <td>0</td>\n",
       "      <td>1</td>\n",
       "      <td>1</td>\n",
       "      <td>0</td>\n",
       "    </tr>\n",
       "    <tr>\n",
       "      <th>3</th>\n",
       "      <td>0</td>\n",
       "      <td>1</td>\n",
       "      <td>1</td>\n",
       "      <td>0</td>\n",
       "      <td>1</td>\n",
       "      <td>1</td>\n",
       "      <td>1</td>\n",
       "      <td>1</td>\n",
       "      <td>1</td>\n",
       "      <td>0</td>\n",
       "      <td>1</td>\n",
       "    </tr>\n",
       "  </tbody>\n",
       "</table>\n",
       "</div>"
      ],
      "text/plain": [
       "  Cdc20 Cdc25A Cdc25C Cdh1 Cdk1 CyclinA CyclinB Mad2 UbcH10 Wee1 pAPC\n",
       "0     0      0      0    1    0       0       0    0      0    1    0\n",
       "1     0      0      1    0    1       0       1    1      1    0    1\n",
       "2     0      1      1    0    0       1       1    0      1    1    0\n",
       "3     0      1      1    0    1       1       1    1      1    0    1"
      ]
     },
     "execution_count": 6,
     "metadata": {},
     "output_type": "execute_result"
    }
   ],
   "source": [
    "df=ex.attractor_dataframe(ar)\n",
    "df"
   ]
  },
  {
   "cell_type": "code",
   "execution_count": 7,
   "metadata": {},
   "outputs": [],
   "source": [
    "#ar.succession_diagram.motif_reduction_dict[0].stable_motifs"
   ]
  },
  {
   "cell_type": "markdown",
   "metadata": {},
   "source": [
    "## Generating and plotting the Suuccession Diagrams"
   ]
  },
  {
   "cell_type": "markdown",
   "metadata": {},
   "source": [
    "If we want to add the attractors as nodes of the succession diagram connected to the terminal nodes of the succession diagram we set:\n"
   ]
  },
  {
   "cell_type": "code",
   "execution_count": 8,
   "metadata": {},
   "outputs": [],
   "source": [
    "include_attractors_in_diagram=True"
   ]
  },
  {
   "cell_type": "markdown",
   "metadata": {},
   "source": [
    "### Reduced network based succession diagram"
   ]
  },
  {
   "cell_type": "code",
   "execution_count": 9,
   "metadata": {},
   "outputs": [],
   "source": [
    "GR=ex.networkx_succession_diagram_reduced_network_based(ar,include_attractors_in_diagram=include_attractors_in_diagram)"
   ]
  },
  {
   "cell_type": "markdown",
   "metadata": {},
   "source": [
    "### Motif based succession diagram"
   ]
  },
  {
   "cell_type": "code",
   "execution_count": 10,
   "metadata": {},
   "outputs": [],
   "source": [
    "GM=ex.networkx_succession_diagram_motif_based(ar,include_attractors_in_diagram=True)"
   ]
  },
  {
   "cell_type": "markdown",
   "metadata": {},
   "source": [
    "In case we only need the set of unique stable motifs:"
   ]
  },
  {
   "cell_type": "code",
   "execution_count": 11,
   "metadata": {},
   "outputs": [],
   "source": [
    "motifs_list=ar.succession_diagram.get_motifs()\n",
    "\n",
    "motifs_dict = dict(zip(range(len(motifs_list)),motifs_list))\n",
    "merged_dict=motifs_dict.copy()\n",
    "attractors_dict=dict()\n",
    "for a_index,a in enumerate(ar.attractors):\n",
    "    merged_dict['A'+str(a_index)]=a.attractor_dict\n",
    "    attractors_dict['A'+str(a_index)]=a.attractor_dict"
   ]
  },
  {
   "cell_type": "code",
   "execution_count": 12,
   "metadata": {},
   "outputs": [
    {
     "data": {
      "text/plain": [
       "NodeDataView({(0, 1): {'states': {'Cdc25A': 0, 'CyclinA': 0}, 'motif': {'Cdc25A': 0, 'CyclinA': 0}, 'label': \"{'Cdc25A': 0, 'CyclinA': 0}\"}, (1, 2): {'states': {'Cdh1': 1, 'CyclinB': 0, 'Cdc20': 0, 'Cdc25C': 0, 'Cdk1': 0, 'Mad2': 0, 'Wee1': 1, 'pAPC': 0, 'UbcH10': 0}, 'motif': {'Cdh1': 1, 'CyclinB': 0}, 'label': \"{'Cdh1': 1, 'CyclinB': 0}\"}, (1, 3): {'states': {'Cdh1': 1, 'CyclinB': 0, 'Cdc20': 0, 'Cdc25C': 0, 'Cdk1': 0, 'Mad2': 0, 'Wee1': 1, 'pAPC': 0, 'UbcH10': 0}, 'motif': {'Cdc25C': 0, 'Cdk1': 0}, 'label': \"{'Cdc25C': 0, 'Cdk1': 0}\"}, (1, 4): {'states': {'Cdh1': 1, 'CyclinB': 0, 'Cdc20': 0, 'Cdc25C': 0, 'Cdk1': 0, 'Mad2': 0, 'Wee1': 1, 'pAPC': 0, 'UbcH10': 0}, 'motif': {'Cdk1': 0, 'Wee1': 1}, 'label': \"{'Cdk1': 0, 'Wee1': 1}\"}, (1, 5): {'states': {'Cdc20': 0, 'Cdc25C': 1, 'Cdh1': 0, 'Cdk1': 1, 'CyclinB': 1, 'Mad2': 1, 'UbcH10': 1, 'Wee1': 0, 'pAPC': 1}, 'motif': {'Cdc20': 0, 'Cdc25C': 1, 'Cdh1': 0, 'Cdk1': 1, 'CyclinB': 1, 'Mad2': 1}, 'label': \"{'Cdc20': 0, 'Cdc25C': 1, 'Cdh1': 0, 'Cdk1': 1, 'CyclinB': 1, 'Mad2': 1}\"}, (0, 6): {'states': {'Cdk1': 0, 'Wee1': 1, 'Mad2': 0}, 'motif': {'Cdk1': 0, 'Wee1': 1}, 'label': \"{'Cdk1': 0, 'Wee1': 1}\"}, (6, 4): {'states': {'Cdc25A': 0, 'CyclinA': 0, 'Cdh1': 1, 'CyclinB': 0, 'Cdc20': 0, 'Cdc25C': 0, 'pAPC': 0, 'UbcH10': 0}, 'motif': {'Cdc25A': 0, 'CyclinA': 0}, 'label': \"{'Cdc25A': 0, 'CyclinA': 0}\"}, (6, 7): {'states': {'pAPC': 0, 'Cdc20': 0}, 'motif': {'pAPC': 0}, 'label': \"{'pAPC': 0}\"}, (0, 10): {'states': {'Cdc20': 0, 'Cdc25C': 1, 'Cdh1': 0, 'Cdk1': 1, 'CyclinB': 1, 'Mad2': 1, 'UbcH10': 1, 'Wee1': 0, 'pAPC': 1}, 'motif': {'Cdc20': 0, 'Cdc25C': 1, 'Cdh1': 0, 'Cdk1': 1, 'CyclinB': 1, 'Mad2': 1}, 'label': \"{'Cdc20': 0, 'Cdc25C': 1, 'Cdh1': 0, 'Cdk1': 1, 'CyclinB': 1, 'Mad2': 1}\"}, (10, 5): {'states': {'Cdc25A': 0, 'CyclinA': 0}, 'motif': {'Cdc25A': 0, 'CyclinA': 0}, 'label': \"{'Cdc25A': 0, 'CyclinA': 0}\"}, (10, 11): {'states': {'CyclinA': 1, 'Cdc25A': 1}, 'motif': {'CyclinA': 1}, 'label': \"{'CyclinA': 1}\"}, (7, 8): {'states': {'Cdc25A': 0, 'CyclinA': 0, 'Cdh1': 1, 'CyclinB': 0, 'Cdc25C': 0, 'UbcH10': 0}, 'motif': {'Cdc25A': 0, 'CyclinA': 0}, 'label': \"{'Cdc25A': 0, 'CyclinA': 0}\"}, (7, 9): {'states': {'Cdh1': 0, 'CyclinA': 1, 'Cdc25A': 1, 'Cdc25C': 1, 'CyclinB': 1, 'UbcH10': 1}, 'motif': {'Cdh1': 0, 'CyclinA': 1}, 'label': \"{'Cdh1': 0, 'CyclinA': 1}\"}, 'A0': {'states': {'Cdc20': 0, 'Cdc25A': 0, 'Cdc25C': 0, 'Cdh1': 1, 'Cdk1': 0, 'CyclinA': 0, 'CyclinB': 0, 'Mad2': 0, 'UbcH10': 0, 'Wee1': 1, 'pAPC': 0}, 'label': \"Attractor A0:\\n {'Cdc20': 0, 'Cdc25A': 0, 'Cdc25C': 0, 'Cdh1': 1, 'Cdk1': 0, 'CyclinA': 0, 'CyclinB': 0, 'Mad2': 0, 'UbcH10': 0, 'Wee1': 1, 'pAPC': 0}\"}, 'A1': {'states': {'Cdc20': 0, 'Cdc25A': 0, 'Cdc25C': 1, 'Cdh1': 0, 'Cdk1': 1, 'CyclinA': 0, 'CyclinB': 1, 'Mad2': 1, 'UbcH10': 1, 'Wee1': 0, 'pAPC': 1}, 'label': \"Attractor A1:\\n {'Cdc20': 0, 'Cdc25A': 0, 'Cdc25C': 1, 'Cdh1': 0, 'Cdk1': 1, 'CyclinA': 0, 'CyclinB': 1, 'Mad2': 1, 'UbcH10': 1, 'Wee1': 0, 'pAPC': 1}\"}, 'A2': {'states': {'Cdc20': 0, 'Cdc25A': 1, 'Cdc25C': 1, 'Cdh1': 0, 'Cdk1': 0, 'CyclinA': 1, 'CyclinB': 1, 'Mad2': 0, 'UbcH10': 1, 'Wee1': 1, 'pAPC': 0}, 'label': \"Attractor A2:\\n {'Cdc20': 0, 'Cdc25A': 1, 'Cdc25C': 1, 'Cdh1': 0, 'Cdk1': 0, 'CyclinA': 1, 'CyclinB': 1, 'Mad2': 0, 'UbcH10': 1, 'Wee1': 1, 'pAPC': 0}\"}, 'A3': {'states': {'Cdc20': 0, 'Cdc25A': 1, 'Cdc25C': 1, 'Cdh1': 0, 'Cdk1': 1, 'CyclinA': 1, 'CyclinB': 1, 'Mad2': 1, 'UbcH10': 1, 'Wee1': 0, 'pAPC': 1}, 'label': \"Attractor A3:\\n {'Cdc20': 0, 'Cdc25A': 1, 'Cdc25C': 1, 'Cdh1': 0, 'Cdk1': 1, 'CyclinA': 1, 'CyclinB': 1, 'Mad2': 1, 'UbcH10': 1, 'Wee1': 0, 'pAPC': 1}\"}})"
      ]
     },
     "execution_count": 12,
     "metadata": {},
     "output_type": "execute_result"
    }
   ],
   "source": [
    "GM.nodes(data=True)"
   ]
  },
  {
   "cell_type": "markdown",
   "metadata": {},
   "source": [
    "## Creating the Simplified Motif Based Succession Diagram (SMBSD)"
   ]
  },
  {
   "cell_type": "markdown",
   "metadata": {},
   "source": [
    "We can have a version of the MBSD where **every motif is present only once in the SD**. The possible transitions are aggregated as edges and the different possible orders and combinations are reduced to paths between motifs. The attractors are still sink-nodes, but primary motifs are no longer necessarily sources because they can stabilize also after other motifs, thus they will have incoming edges from other motifs. This creates a much simpler picture. However, the simplification comes at a cost: some primary motif -> attractor paths include nodes that are incompatible with the final attractor. \n",
    "This problem can be solved by checking the consistency of a path, using a function defined below (*has_consistent_path()*)\n"
   ]
  },
  {
   "cell_type": "code",
   "execution_count": 13,
   "metadata": {},
   "outputs": [],
   "source": [
    "import networkx as nx\n",
    "motif_keys=list(merged_dict.keys())\n",
    "motif_values=list(merged_dict.values())\n",
    "GMM=nx.DiGraph()\n",
    "GMM.add_nodes_from(merged_dict)\n",
    "for n in GMM.nodes():\n",
    "    GMM.nodes[n]['states']=merged_dict[n]\n",
    "for i,j in GM.edges():\n",
    "    source=motif_keys[motif_values.index(GM.nodes[i]['motif'])]\n",
    "    try:\n",
    "        target=motif_keys[motif_values.index(GM.nodes[j]['motif'])]\n",
    "    except KeyError:\n",
    "        target=motif_keys[motif_values.index(GM.nodes[j]['states'])] #attractor\n",
    "    GMM.add_edge(source,target)"
   ]
  },
  {
   "cell_type": "markdown",
   "metadata": {},
   "source": [
    "Checking the path consistency:"
   ]
  },
  {
   "cell_type": "code",
   "execution_count": 14,
   "metadata": {},
   "outputs": [],
   "source": [
    "def has_consistent_path(GMM,source,target):\n",
    "    '''\n",
    "    Checks if there is a consistent (no contradicting node-states) path of motifs between\n",
    "    a source and a target node in a succession diagram.\n",
    "    \n",
    "    GMM - succession diagram DiGraph object (preferable the simplified MBSD)\n",
    "    source - a node of the GMM\n",
    "    target - a node of the GMM\n",
    "    \n",
    "    Returns: True if there is a consistent path, False otherwise\n",
    "    '''\n",
    "    \n",
    "    \n",
    "    \n",
    "    for simple_path in list(nx.all_simple_paths(GMM,source,target)):\n",
    "        #print (simple_path)\n",
    "        path_virtual_nodes={}\n",
    "        for node_id in simple_path: \n",
    "            contradiction=False\n",
    "            virtual_nodes = GMM.nodes[node_id]['states']\n",
    "            for virtual_node,value in virtual_nodes.items():\n",
    "                #print(virtual_node, value)\n",
    "                if virtual_node in path_virtual_nodes:\n",
    "                    if path_virtual_nodes[virtual_node]!=value:\n",
    "                        contradiction=True\n",
    "                        #print('Found a contradiction')\n",
    "                        break\n",
    "                else:\n",
    "                    path_virtual_nodes[virtual_node]=value\n",
    "            if contradiction:\n",
    "                break\n",
    "        if contradiction==False:\n",
    "            return True\n",
    "    return False"
   ]
  },
  {
   "cell_type": "markdown",
   "metadata": {},
   "source": [
    "## Creating the motif-attractor bipartite representation"
   ]
  },
  {
   "cell_type": "markdown",
   "metadata": {},
   "source": [
    "A further simplification of the succession diagram could be if we check what motifs have a consistent path to what attractors. If we have $m$ number of motifs and $A$ number of attractors, we can create an $m$ by $A$ matrix $M$ in which $M_{ij}$ is 1 if motif $m_i$ has a consistent simple path in the SMBSD to attractor $A_j$. This is a bipartite network of motifs and attractors."
   ]
  },
  {
   "cell_type": "code",
   "execution_count": 15,
   "metadata": {},
   "outputs": [
    {
     "name": "stdout",
     "output_type": "stream",
     "text": [
      "12\n"
     ]
    }
   ],
   "source": [
    "GM_bp=nx.DiGraph()\n",
    "GM_bp.add_nodes_from(motifs_dict)\n",
    "GM_bp.add_nodes_from(attractors_dict)\n",
    "for m in motifs_dict:\n",
    "    GM_bp.nodes[m]['states']=motifs_dict[m]\n",
    "    for a in attractors_dict:\n",
    "        GM_bp.nodes[a]['states']=attractors_dict[a]\n",
    "        #if nx.has_path(GMM,m,a):\n",
    "        if has_consistent_path(GMM,m,a):\n",
    "            GM_bp.add_edge(m,a)\n",
    "            \n",
    "for a in attractors_dict:\n",
    "    GM_bp.nodes[a]['states']=attractors_dict[a]\n",
    "        \n",
    "print(GM_bp.number_of_edges())"
   ]
  },
  {
   "cell_type": "markdown",
   "metadata": {},
   "source": [
    "## Saving all 4 kinds of graphs into graphml"
   ]
  },
  {
   "cell_type": "markdown",
   "metadata": {},
   "source": [
    "Plotting the succession diagrams in matplolib is an quick and efficient way of having a glimpse at the succession diagram, however in the case of large and more complex diagrams this can become inefficient. We suggest exporting the diagrams and plotting them with tools such as yED. Here we explain how to do it:\n",
    "* first, we export the succession diagram into graphml format. The attributes such as the label are preserved by the format"
   ]
  },
  {
   "cell_type": "code",
   "execution_count": 16,
   "metadata": {},
   "outputs": [],
   "source": [
    "ex.save_to_graphml(GR,model_name='SD_reduction_based_%s'%model_name_)\n",
    "ex.save_to_graphml(GM,model_name='SD_motif_based_%s'%model_name_)\n",
    "ex.save_to_graphml(GMM,model_name='SD_simplified_motif_based_%s'%model_name_)\n",
    "ex.save_to_graphml(GM_bp,model_name='SD_bipartite_motif_based_%s'%model_name_)\n"
   ]
  },
  {
   "cell_type": "markdown",
   "metadata": {},
   "source": [
    "* next, open the saved graphml in yED\n",
    "* go to Edit -> Properties Mapper\n",
    "* (optional) in the top left corner of the pop-up window click *import additional configuration* and select the *succession_diagram_yED_properties.cnfx* config file from GitHub. \n",
    "* Set up the configuration and click *Apply*\n",
    "* Finally, we suggest a hierarchical layout. To get this go to Layout -> Hierarchical"
   ]
  },
  {
   "cell_type": "code",
   "execution_count": null,
   "metadata": {},
   "outputs": [],
   "source": []
  }
 ],
 "metadata": {
  "kernelspec": {
   "display_name": "Python 3",
   "language": "python",
   "name": "python3"
  },
  "language_info": {
   "codemirror_mode": {
    "name": "ipython",
    "version": 3
   },
   "file_extension": ".py",
   "mimetype": "text/x-python",
   "name": "python",
   "nbconvert_exporter": "python",
   "pygments_lexer": "ipython3",
   "version": "3.7.6"
  }
 },
 "nbformat": 4,
 "nbformat_minor": 4
}
